{
 "cells": [
  {
   "cell_type": "markdown",
   "metadata": {},
   "source": [
    "Viết ứng dụng truyền thông Client – Server theo mô tả sau: \n",
    "\n",
    "Server: \n",
    "\n",
    "Cung cấp danh sách các dịch vụ: \n",
    "\n",
    "Đảo ngược chuỗi đồng thời in hoa ký tự đầu của mỗi từ \n",
    "\n",
    "Tính tổng chuỗi các số nguyên (Client nhập chuỗi các số nguyên) \n",
    "\n",
    "Thoát \n",
    "\n",
    "Server có thể xử lý đồng thời yêu cầu từ nhiều client. \n",
    "\n",
    "Tính tổng các số nguyên (Client nhập chuỗi các số nguyên, cách nhau bởi khoảng trắng)\n",
    "\n",
    "Client: \n",
    "\n",
    "Kết nối tới server qua địa chỉ IP và port được cung cấp \n",
    "\n",
    "Client chọn dịch vụ. \n",
    "\n",
    "Dịch vụ 1: Client nhập chuỗi. Hiển thị kết quả đảo ngược và in hoa ký tự đầu. \n",
    "\n",
    "Dịch vụ 2: Client nhập chuỗi các số nguyên. Hiển thị kết quả tính tổng các số nguyên. \n",
    "\n",
    "Kiểm tra ngắt kết nối.\n",
    "\n"
   ]
  }
 ],
 "metadata": {
  "language_info": {
   "name": "python"
  }
 },
 "nbformat": 4,
 "nbformat_minor": 2
}
