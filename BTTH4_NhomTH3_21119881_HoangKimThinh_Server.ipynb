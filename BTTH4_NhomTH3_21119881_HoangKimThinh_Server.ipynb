{
 "cells": [
  {
   "cell_type": "markdown",
   "metadata": {},
   "source": [
    "BÀI 1"
   ]
  },
  {
   "cell_type": "code",
   "execution_count": 1,
   "metadata": {},
   "outputs": [
    {
     "name": "stdout",
     "output_type": "stream",
     "text": [
      "Da chap nhan ket noi tu  ('192.168.85.149', 45902)\n",
      "Dữ liệu nhận được: helloworld\n"
     ]
    }
   ],
   "source": [
    "import socket\n",
    "s = socket.socket(socket.AF_INET, socket.SOCK_STREAM)\n",
    "host = socket.gethostname()\n",
    "port = 12345\n",
    "s.bind((host, port))\n",
    "s.listen(5)\n",
    "while True:\n",
    " c, addr = s.accept()\n",
    " print(\"Da chap nhan ket noi tu \", addr)\n",
    " output = \"Cam on ban da ket noi\"\n",
    "\n",
    " data = c.recv(1024).decode(\"utf-8\")\n",
    " c.sendall(data.encode(\"utf-8\"))\n",
    " print(\"Dữ liệu nhận được:\", data)\n",
    " c.close()\n",
    "\n",
    "\n"
   ]
  },
  {
   "cell_type": "markdown",
   "metadata": {},
   "source": [
    "BÀI 2"
   ]
  },
  {
   "cell_type": "code",
   "execution_count": 1,
   "metadata": {},
   "outputs": [
    {
     "name": "stdout",
     "output_type": "stream",
     "text": [
      "Da chap nhan ket noi tu  ('192.168.85.149', 46061)\n",
      "Dữ liệu nhận được: helloword\n"
     ]
    }
   ],
   "source": [
    "import socket\n",
    "s = socket.socket(socket.AF_INET, socket.SOCK_STREAM)\n",
    "host = socket.gethostname()\n",
    "port = 12345\n",
    "s.bind((host, port))\n",
    "s.listen(5)\n",
    "while True:\n",
    " c, addr = s.accept()\n",
    " print(\"Da chap nhan ket noi tu \", addr)\n",
    "\n",
    " data = c.recv(1024).decode(\"utf-8\")\n",
    " print(\"Dữ liệu nhận được:\", data)\n",
    " data_upper = data.upper()\n",
    " c.sendall(data_upper.encode(\"utf-8\"))\n",
    " \n",
    " c.close()"
   ]
  }
 ],
 "metadata": {
  "kernelspec": {
   "display_name": "Python 3",
   "language": "python",
   "name": "python3"
  },
  "language_info": {
   "codemirror_mode": {
    "name": "ipython",
    "version": 3
   },
   "file_extension": ".py",
   "mimetype": "text/x-python",
   "name": "python",
   "nbconvert_exporter": "python",
   "pygments_lexer": "ipython3",
   "version": "3.10.6"
  },
  "orig_nbformat": 4
 },
 "nbformat": 4,
 "nbformat_minor": 2
}
