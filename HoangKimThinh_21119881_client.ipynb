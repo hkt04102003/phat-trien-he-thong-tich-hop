{
 "cells": [
  {
   "cell_type": "code",
   "execution_count": 2,
   "metadata": {},
   "outputs": [
    {
     "name": "stdout",
     "output_type": "stream",
     "text": [
      "MENU DỊCH VỤ:\n",
      "1. Đảo ngược chuỗi và in hoa ký tự đầu của mỗi từ\n",
      "2. Tính tổng chuỗi các số nguyên\n",
      "3. Thoát\n",
      "Kết quả: Tổng các số nguyên là: 15\n",
      "MENU DỊCH VỤ:\n",
      "1. Đảo ngược chuỗi và in hoa ký tự đầu của mỗi từ\n",
      "2. Tính tổng chuỗi các số nguyên\n",
      "3. Thoát\n",
      "Kết quả: Abc Thinh\n",
      "MENU DỊCH VỤ:\n",
      "1. Đảo ngược chuỗi và in hoa ký tự đầu của mỗi từ\n",
      "2. Tính tổng chuỗi các số nguyên\n",
      "3. Thoát\n"
     ]
    }
   ],
   "source": [
    "import socket\n",
    "\n",
    "# Tạo một socket client\n",
    "client_socket = socket.socket(socket.AF_INET, socket.SOCK_STREAM)\n",
    "host = socket.gethostname()\n",
    "# Kết nối đến server qua địa chỉ IP và cổng\n",
    "server_address = (host, 12345)\n",
    "client_socket.connect(server_address)\n",
    "\n",
    "while True:\n",
    "    # Hiển thị menu dịch vụ cho client\n",
    "    print(\"MENU DỊCH VỤ:\")\n",
    "    print(\"1. Đảo ngược chuỗi và in hoa ký tự đầu của mỗi từ\")\n",
    "    print(\"2. Tính tổng chuỗi các số nguyên\")\n",
    "    print(\"3. Thoát\")\n",
    "    \n",
    "    choice = input(\"Chọn dịch vụ (1/2/3): \")\n",
    "    \n",
    "    # Gửi lựa chọn của client đến server\n",
    "    client_socket.send(choice.encode())\n",
    "    \n",
    "    if choice == '1':\n",
    "        # Dịch vụ 1: Đảo ngược chuỗi và in hoa ký tự đầu của mỗi từ\n",
    "        text = input(\"Nhap chuoi\")\n",
    "        client_socket.send(text.encode())\n",
    "        data = client_socket.recv(1024).decode()\n",
    "        print(f\"Kết quả: {data}\")\n",
    "    elif choice == '2':\n",
    "        # Dịch vụ 2: Tính tổng chuỗi các số nguyên\n",
    "        text = input(\"Nhap chuoi so cach nhau bang khoang trang\")\n",
    "        client_socket.send(text.encode())\n",
    "        data = client_socket.recv(1024).decode()\n",
    "        print(f\"Kết quả: {data}\")\n",
    "    elif choice == '3':\n",
    "        # Dịch vụ 3: Thoát\n",
    "        print(\"Đã thoát khỏi ứng dụng.\")\n",
    "        break\n",
    "\n",
    "# Đóng kết nối\n",
    "client_socket.close()\n"
   ]
  }
 ],
 "metadata": {
  "kernelspec": {
   "display_name": "Python 3",
   "language": "python",
   "name": "python3"
  },
  "language_info": {
   "codemirror_mode": {
    "name": "ipython",
    "version": 3
   },
   "file_extension": ".py",
   "mimetype": "text/x-python",
   "name": "python",
   "nbconvert_exporter": "python",
   "pygments_lexer": "ipython3",
   "version": "3.10.6"
  }
 },
 "nbformat": 4,
 "nbformat_minor": 2
}
