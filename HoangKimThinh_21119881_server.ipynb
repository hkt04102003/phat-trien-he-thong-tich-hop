{
 "cells": [
  {
   "cell_type": "code",
   "execution_count": 1,
   "metadata": {},
   "outputs": [
    {
     "name": "stdout",
     "output_type": "stream",
     "text": [
      "Server đang lắng nghe trên LAPTOP-33DSCKPQ:12345\n",
      "Kết nối từ ('192.168.1.90', 59783)\n"
     ]
    },
    {
     "name": "stderr",
     "output_type": "stream",
     "text": [
      "Exception in thread Thread-5 (handle_client):\n",
      "Traceback (most recent call last):\n",
      "  File \"c:\\Users\\Thinh\\AppData\\Local\\Programs\\Python\\Python310\\lib\\threading.py\", line 1016, in _bootstrap_inner\n",
      "    self.run()\n",
      "  File \"c:\\Users\\Thinh\\AppData\\Local\\Programs\\Python\\Python310\\lib\\threading.py\", line 953, in run\n",
      "    self._target(*self._args, **self._kwargs)\n",
      "  File \"C:\\Users\\Thinh\\AppData\\Local\\Temp\\ipykernel_47812\\4369784.py\", line 20, in handle_client\n",
      "ConnectionResetError: [WinError 10054] An existing connection was forcibly closed by the remote host\n"
     ]
    }
   ],
   "source": [
    "import socket\n",
    "import threading\n",
    "\n",
    "# Tạo một socket server\n",
    "server_socket = socket.socket(socket.AF_INET, socket.SOCK_STREAM)\n",
    "\n",
    "# Xác định địa chỉ và cổng để lắng nghe\n",
    "host = socket.gethostname()\n",
    "port = 12345\n",
    "server_socket.bind((host, port))\n",
    "\n",
    "# Lắng nghe kết nối từ client\n",
    "server_socket.listen(5)\n",
    "print(f\"Server đang lắng nghe trên {host}:{port}\")\n",
    "\n",
    "# Hàm xử lý yêu cầu từ client\n",
    "def handle_client(client_socket):\n",
    "    while True:\n",
    "        # Nhận dịch vụ được chọn từ client\n",
    "        choice = client_socket.recv(1024).decode()\n",
    "        \n",
    "        if choice == '1':\n",
    "            # Dịch vụ 1: Đảo ngược chuỗi và in hoa ký tự đầu của mỗi từ\n",
    "            \n",
    "            data = client_socket.recv(1024).decode()\n",
    "            reversed_data = ' '.join(word.capitalize() for word in data.split()[::-1])\n",
    "            client_socket.send(reversed_data.encode())\n",
    "        elif choice == '2':\n",
    "            # Dịch vụ 2: Tính tổng chuỗi các số nguyên\n",
    "            data = client_socket.recv(1024).decode()\n",
    "            numbers = [int(x) for x in data.split() if x.isdigit()]\n",
    "            total = sum(numbers)\n",
    "            client_socket.send(f\"Tổng các số nguyên là: {total}\".encode())\n",
    "        elif choice == '3':\n",
    "            # Dịch vụ 3: Thoát\n",
    "            print(f\"Kết thúc kết nối từ {client_socket.getpeername()}\")\n",
    "            client_socket.close()\n",
    "            break\n",
    "\n",
    "# Chấp nhận kết nối từ nhiều client\n",
    "while True:\n",
    "    client_socket, addr = server_socket.accept()\n",
    "    print(f\"Kết nối từ {addr}\")\n",
    "    \n",
    "    # Tạo một luồng riêng biệt cho từng client\n",
    "    client_handler = threading.Thread(target=handle_client, args=(client_socket,))\n",
    "    client_handler.start()\n"
   ]
  }
 ],
 "metadata": {
  "kernelspec": {
   "display_name": "Python 3",
   "language": "python",
   "name": "python3"
  },
  "language_info": {
   "codemirror_mode": {
    "name": "ipython",
    "version": 3
   },
   "file_extension": ".py",
   "mimetype": "text/x-python",
   "name": "python",
   "nbconvert_exporter": "python",
   "pygments_lexer": "ipython3",
   "version": "3.10.6"
  }
 },
 "nbformat": 4,
 "nbformat_minor": 2
}
