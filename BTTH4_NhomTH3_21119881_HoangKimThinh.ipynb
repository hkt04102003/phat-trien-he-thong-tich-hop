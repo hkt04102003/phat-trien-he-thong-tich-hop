{
 "cells": [
  {
   "cell_type": "markdown",
   "metadata": {},
   "source": [
    "Bài tập 1\n",
    "Bài 1: Từ thí dụ trên, sinh viên viết 1 echo-server theo yêu cầu \n",
    "sau:\n",
    "- Server: lắng nghe trên một port xác định (do sinh viên quy định), \n",
    "chấp nhận yêu cầu kết nối từ một client, hiển thị thông tin client, \n",
    "nhận một chuỗi từ client sau đó chuyển trả lại cho client\n",
    "- Client: kết nối tới server thông qua một port xác định (do sinh \n",
    "viên quy định), gởi chuỗi đến server, nhận chuỗi mới từ server và \n",
    "hiển thị trên màn hình của client"
   ]
  },
  {
   "cell_type": "markdown",
   "metadata": {},
   "source": [
    "Bài 2: Từ thí dụ trên, sinh viên viết lại hệ thống một client-server theo yêu cầu sau:\n",
    "- Server: lắng nghe trên một port xác định (do sinh viên quy định), \n",
    "chấp nhận yêu cầu kết nối từ một client, hiển thị thông tin client, \n",
    "nhận một chuỗi từ client sau đó chuyển thành chữ hoa và trả chuỗi\n",
    "mới về cho client\n",
    "- Client: kết nối tới server thông qua một port xác định (do sinh \n",
    "viên quy định), gởi chuỗi đến server, nhận chuỗi mới từ server và \n",
    "hiển thị trên màn hình của client"
   ]
  }
 ],
 "metadata": {
  "language_info": {
   "name": "python"
  },
  "orig_nbformat": 4
 },
 "nbformat": 4,
 "nbformat_minor": 2
}
